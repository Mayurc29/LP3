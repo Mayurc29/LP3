{
 "cells": [
  {
   "cell_type": "markdown",
   "metadata": {},
   "source": [
    "#### Assignment on K-Means Clustering:\n",
    "We have given a collection of 8 points. P1=[0.1,0.6] P2=[0.15,0.71] P3=[0.08,0.9] P4=[0.16,\n",
    "0.85] P5=[0.2,0.3] P6=[0.25,0.5] P7=[0.24,0.1] P8=[0.3,0.2]. Perform the k-mean clustering\n",
    "with initial centroids as m1=P1 =Cluster#1=C1 and m2=P8=cluster#2=C2. Answer the\n",
    "following\n",
    "1] Which cluster does P6 belongs to?\n",
    "2] What is the population of cluster around m2?\n",
    "3] What is updated value of m1 and m2?"
   ]
  },
  {
   "cell_type": "code",
   "execution_count": 1,
   "metadata": {},
   "outputs": [],
   "source": [
    "#import packages\n",
    "import numpy as np\n",
    "import matplotlib.pyplot as plt\n",
    "import pandas as pd"
   ]
  },
  {
   "cell_type": "code",
   "execution_count": 2,
   "metadata": {},
   "outputs": [
    {
     "data": {
      "text/plain": [
       "[[0.1, 0.6],\n",
       " [0.15, 0.71],\n",
       " [0.08, 0.9],\n",
       " [0.16, 0.85],\n",
       " [0.2, 0.3],\n",
       " [0.25, 0.5],\n",
       " [0.24, 0.1],\n",
       " [0.3, 0.2]]"
      ]
     },
     "execution_count": 2,
     "metadata": {},
     "output_type": "execute_result"
    }
   ],
   "source": [
    "#Create dataset\n",
    "X = [[0.1,0.6],[0.15,0.71],[0.08,0.9],[0.16,0.85],[0.2,0.3],[0.25,0.5],[0.24,0.1],[0.3,0.2]]\n",
    "X"
   ]
  },
  {
   "cell_type": "code",
   "execution_count": 3,
   "metadata": {},
   "outputs": [
    {
     "name": "stdout",
     "output_type": "stream",
     "text": [
      "Initial Centroids:\n",
      " [[0.1 0.6]\n",
      " [0.3 0.2]]\n"
     ]
    }
   ],
   "source": [
    "#Initial centroid points\n",
    "centers = np.array([[0.1,0.6],[0.3,0.2]])\n",
    "print(\"Initial Centroids:\\n\",centers)"
   ]
  },
  {
   "cell_type": "code",
   "execution_count": 4,
   "metadata": {},
   "outputs": [
    {
     "name": "stdout",
     "output_type": "stream",
     "text": [
      "Labels: [0 0 0 0 1 0 1 1]\n"
     ]
    }
   ],
   "source": [
    "#import KMeans class\n",
    "from sklearn.cluster import KMeans\n",
    "model =  KMeans(n_clusters = 2, init = centers, n_init = 1)\n",
    "model.fit(X)\n",
    "print(\"Labels:\", model.labels_)"
   ]
  },
  {
   "cell_type": "code",
   "execution_count": 5,
   "metadata": {},
   "outputs": [
    {
     "name": "stdout",
     "output_type": "stream",
     "text": [
      "P6 belongs to clusteer 0\n"
     ]
    }
   ],
   "source": [
    "#Find P6 location\n",
    "print(\"P6 belongs to clusteer\", model.labels_[5])"
   ]
  },
  {
   "cell_type": "code",
   "execution_count": 6,
   "metadata": {},
   "outputs": [
    {
     "name": "stdout",
     "output_type": "stream",
     "text": [
      "Number of population around cluster 2: 3\n"
     ]
    }
   ],
   "source": [
    "#Using labels find population aroun centroid\n",
    "print(\"Number of population around cluster 2:\", np.count_nonzero(model.labels_ == 1))"
   ]
  },
  {
   "cell_type": "code",
   "execution_count": 7,
   "metadata": {},
   "outputs": [
    {
     "name": "stdout",
     "output_type": "stream",
     "text": [
      "New Centroids:\n",
      " [[0.148      0.712     ]\n",
      " [0.24666667 0.2       ]]\n"
     ]
    }
   ],
   "source": [
    "#Find new centroids\n",
    "print(\"New Centroids:\\n\", model.cluster_centers_)"
   ]
  },
  {
   "cell_type": "code",
   "execution_count": null,
   "metadata": {},
   "outputs": [],
   "source": []
  }
 ],
 "metadata": {
  "kernelspec": {
   "display_name": "Python 3",
   "language": "python",
   "name": "python3"
  },
  "language_info": {
   "codemirror_mode": {
    "name": "ipython",
    "version": 3
   },
   "file_extension": ".py",
   "mimetype": "text/x-python",
   "name": "python",
   "nbconvert_exporter": "python",
   "pygments_lexer": "ipython3",
   "version": "3.8.3"
  }
 },
 "nbformat": 4,
 "nbformat_minor": 4
}
