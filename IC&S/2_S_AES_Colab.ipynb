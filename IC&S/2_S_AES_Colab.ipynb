{
  "nbformat": 4,
  "nbformat_minor": 0,
  "metadata": {
    "colab": {
      "name": "2_S-AES_Colab.ipynb",
      "provenance": [],
      "collapsed_sections": []
    },
    "kernelspec": {
      "name": "python3",
      "display_name": "Python 3"
    },
    "language_info": {
      "name": "python"
    }
  },
  "cells": [
    {
      "cell_type": "code",
      "source": [
        "pip install pycrypto"
      ],
      "metadata": {
        "colab": {
          "base_uri": "https://localhost:8080/"
        },
        "id": "umsZX-R5YBXC",
        "outputId": "15d280a9-4cc0-4a2b-9764-31c0cfa1f6cd"
      },
      "execution_count": 3,
      "outputs": [
        {
          "output_type": "stream",
          "name": "stdout",
          "text": [
            "Looking in indexes: https://pypi.org/simple, https://us-python.pkg.dev/colab-wheels/public/simple/\n",
            "Collecting pycrypto\n",
            "  Downloading pycrypto-2.6.1.tar.gz (446 kB)\n",
            "\u001b[K     |████████████████████████████████| 446 kB 7.5 MB/s \n",
            "\u001b[?25hBuilding wheels for collected packages: pycrypto\n",
            "  Building wheel for pycrypto (setup.py) ... \u001b[?25l\u001b[?25hdone\n",
            "  Created wheel for pycrypto: filename=pycrypto-2.6.1-cp37-cp37m-linux_x86_64.whl size=499932 sha256=2a2ffd2c24814bab24705b574e8aa0b9dfc051b1922bd4be277a1b1c1d4c5460\n",
            "  Stored in directory: /root/.cache/pip/wheels/cf/85/ba/bbd7c96add459de7598fb424e5ff2309baf2095c844ac0f191\n",
            "Successfully built pycrypto\n",
            "Installing collected packages: pycrypto\n",
            "Successfully installed pycrypto-2.6.1\n"
          ]
        }
      ]
    },
    {
      "cell_type": "code",
      "execution_count": 5,
      "metadata": {
        "colab": {
          "base_uri": "https://localhost:8080/"
        },
        "id": "BE8BiOasU7iJ",
        "outputId": "a6de3d84-9416-4beb-986a-0b781ceb3426"
      },
      "outputs": [
        {
          "output_type": "stream",
          "name": "stdout",
          "text": [
            "Enter the text to be encrypted: 20\n",
            "Enter in a key between 16 and 32 characters: 1234567891011121314\n",
            "b'\\x10\\xfb\\x05\\x9fI\\xc6\\xe5L\\xf8\\xbaZ\\x15\\xaca\\x10H'\n",
            "b'20              '\n"
          ]
        }
      ],
      "source": [
        "from Crypto.Cipher import AES\n",
        "\n",
        "#key has to be either 16, 24 or 32 bytes\n",
        "def paddedKey(key):\n",
        "    while len(key) % 8 !=0:\n",
        "        key +=' '\n",
        "    return key\n",
        "    \n",
        "#text has to in multiples of 26 bytes\n",
        "def paddedText(text):\n",
        "    while len(text) % 16 != 0:\n",
        "        text += ' '\n",
        "    return text\n",
        "        \n",
        "plain_input = input(\"Enter the text to be encrypted: \")\n",
        "plain = paddedText(plain_input)\n",
        " \n",
        "key_input = input(\"Enter in a key between 16 and 32 characters: \")\n",
        "key = paddedKey(key_input)\n",
        " \n",
        "if(len(key_input)< 16 & len(key_input)> 32):\n",
        " print(\"key must be between 16 and 32 characters!\")\n",
        " \n",
        "cipher = AES.new(key)\n",
        "ciphertext = cipher.encrypt(plain)\n",
        "print(ciphertext)\n",
        " \n",
        "cleartext = cipher.decrypt(ciphertext)\n",
        "print(cleartext)"
      ]
    },
    {
      "cell_type": "code",
      "source": [
        ""
      ],
      "metadata": {
        "id": "i1N7Ye3DVJ2S"
      },
      "execution_count": null,
      "outputs": []
    }
  ]
}